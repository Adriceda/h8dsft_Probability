{
 "cells": [
  {
   "cell_type": "code",
   "execution_count": null,
   "metadata": {},
   "outputs": [],
   "source": [
    "import numpy as np\n",
    "import matplotlib.pyplot as plt\n",
    "import sympy as sy\n",
    "from sympy.tensor.array import derive_by_array\n",
    "import random"
   ]
  },
  {
   "cell_type": "code",
   "execution_count": null,
   "metadata": {},
   "outputs": [],
   "source": [
    "import random\n",
    "\n",
    "# Count the number of 3xHeads results\n",
    "h3 = 0\n",
    "\n",
    "# Create a list of all results\n",
    "results = []\n",
    "\n",
    "# loop through 10000 trials\n",
    "trials = 10000\n",
    "trial = 0\n",
    "while trial < trials:\n",
    "    trial = trial + 1\n",
    "    # Flip three coins\n",
    "    result = ['H' if random.randint(0,1) == 0 else 'T',\n",
    "              'H' if random.randint(0,1) == 0 else 'T',\n",
    "              'H' if random.randint(0,1) == 0 else 'T']\n",
    "    results.append(result)\n",
    "    # If it's three heads, add it to the count\n",
    "    h3 = h3 + int(result == ['H','H','H'])\n",
    "    \n",
    "# What proportion of trials produced 3x heads\n",
    "print (\"%.2f%%\" % ((h3/trials)*100))\n",
    "\n",
    "# Show all the results\n",
    "print (results)"
   ]
  }
 ],
 "metadata": {
  "kernelspec": {
   "display_name": "base",
   "language": "python",
   "name": "python3"
  },
  "language_info": {
   "name": "python",
   "version": "3.9.13"
  },
  "orig_nbformat": 4,
  "vscode": {
   "interpreter": {
    "hash": "1b21f4da843a96ce5d35dfc2771ab5c508eda02c55749f0b84df6b11d2379d04"
   }
  }
 },
 "nbformat": 4,
 "nbformat_minor": 2
}
